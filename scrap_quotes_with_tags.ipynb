{
 "cells": [
  {
   "cell_type": "code",
   "execution_count": 12,
   "metadata": {},
   "outputs": [],
   "source": [
    "import requests\n",
    "from bs4 import BeautifulSoup\n",
    "url = \"https://www.goodreads.com/quotes/tag/{}?page={}\""
   ]
  },
  {
   "cell_type": "code",
   "execution_count": 23,
   "metadata": {},
   "outputs": [],
   "source": [
    "def scrap(url):\n",
    "    data = requests.get(url)\n",
    "    soup = BeautifulSoup(data.text)\n",
    "    \n",
    "    quote_divs = soup.find_all(\"div\",attrs={\"class\":\"quote\"})\n",
    "    content = []\n",
    "    \n",
    "    for quote_div in quote_divs:\n",
    "        quoteText_div = quote_div.find(\"div\",attrs={\"class\":\"quoteText\"})\n",
    "        quoteText = quoteText_div.text\n",
    "        author = quoteText_div.find(\"span\").text.strip()\n",
    "        quote = quoteText.strip().split(\"\\n\")[0][1:-1]\n",
    "        lefts = quote_div.find(\"div\",attrs={\"class\":\"left\"})\n",
    "        tags = \" , \".join([a.text for a in lefts.find_all(\"a\")])\n",
    "        content.append([author,quote,tags])\n",
    "    print(len(content))   \n",
    "    return content"
   ]
  },
  {
   "cell_type": "code",
   "execution_count": 24,
   "metadata": {},
   "outputs": [
    {
     "name": "stdin",
     "output_type": "stream",
     "text": [
      "enter the emotion :  love\n",
      "enter the number of pages :  4\n"
     ]
    }
   ],
   "source": [
    "emotion = input(\"enter the emotion : \").strip()\n",
    "number = int(input(\"enter the number of pages : \"))"
   ]
  },
  {
   "cell_type": "code",
   "execution_count": 25,
   "metadata": {},
   "outputs": [
    {
     "name": "stdout",
     "output_type": "stream",
     "text": [
      "30\n",
      "processes 1\n",
      "30\n",
      "processes 2\n",
      "30\n",
      "processes 3\n",
      "30\n",
      "processes 4\n"
     ]
    }
   ],
   "source": [
    "collected = []\n",
    "for num in range(1,number+1):\n",
    "    collected.extend(scrap(url.format(emotion,num)))\n",
    "    print(\"processes\",num)"
   ]
  },
  {
   "cell_type": "code",
   "execution_count": 26,
   "metadata": {},
   "outputs": [
    {
     "data": {
      "text/plain": [
       "120"
      ]
     },
     "execution_count": 26,
     "metadata": {},
     "output_type": "execute_result"
    }
   ],
   "source": [
    "len(collected)"
   ]
  },
  {
   "cell_type": "code",
   "execution_count": 27,
   "metadata": {},
   "outputs": [],
   "source": [
    "import pandas as pd"
   ]
  },
  {
   "cell_type": "code",
   "execution_count": 28,
   "metadata": {},
   "outputs": [
    {
     "data": {
      "text/html": [
       "<div>\n",
       "<style scoped>\n",
       "    .dataframe tbody tr th:only-of-type {\n",
       "        vertical-align: middle;\n",
       "    }\n",
       "\n",
       "    .dataframe tbody tr th {\n",
       "        vertical-align: top;\n",
       "    }\n",
       "\n",
       "    .dataframe thead th {\n",
       "        text-align: right;\n",
       "    }\n",
       "</style>\n",
       "<table border=\"1\" class=\"dataframe\">\n",
       "  <thead>\n",
       "    <tr style=\"text-align: right;\">\n",
       "      <th></th>\n",
       "      <th>author</th>\n",
       "      <th>quote</th>\n",
       "      <th>tags</th>\n",
       "    </tr>\n",
       "  </thead>\n",
       "  <tbody>\n",
       "    <tr>\n",
       "      <th>0</th>\n",
       "      <td>Marilyn Monroe</td>\n",
       "      <td>I'm selfish, impatient and a little insecure. ...</td>\n",
       "      <td>attributed-no-source , best , life , love , mi...</td>\n",
       "    </tr>\n",
       "    <tr>\n",
       "      <th>1</th>\n",
       "      <td>William W. Purkey</td>\n",
       "      <td>You've gotta dance like there's nobody watchin...</td>\n",
       "      <td>dance , heaven , hurt , inspirational , life ,...</td>\n",
       "    </tr>\n",
       "    <tr>\n",
       "      <th>2</th>\n",
       "      <td>Dr. Seuss</td>\n",
       "      <td>You know you're in love when you can't fall as...</td>\n",
       "      <td>attributed-no-source , dreams , love , reality...</td>\n",
       "    </tr>\n",
       "    <tr>\n",
       "      <th>3</th>\n",
       "      <td>Elbert Hubbard</td>\n",
       "      <td>A friend is someone who knows all about you an...</td>\n",
       "      <td>friend , friendship , knowledge , love</td>\n",
       "    </tr>\n",
       "    <tr>\n",
       "      <th>4</th>\n",
       "      <td>Martin Luther King Jr.,</td>\n",
       "      <td>Darkness cannot drive out darkness: only light...</td>\n",
       "      <td>darkness , drive-out , hate , inspirational , ...</td>\n",
       "    </tr>\n",
       "    <tr>\n",
       "      <th>...</th>\n",
       "      <td>...</td>\n",
       "      <td>...</td>\n",
       "      <td>...</td>\n",
       "    </tr>\n",
       "    <tr>\n",
       "      <th>115</th>\n",
       "      <td>Antoine de Saint-Exupéry,</td>\n",
       "      <td>Love does not consist of gazing at each other,...</td>\n",
       "      <td>love</td>\n",
       "    </tr>\n",
       "    <tr>\n",
       "      <th>116</th>\n",
       "      <td>Greg Behrendt</td>\n",
       "      <td>If he’s not calling you, it’s because you are ...</td>\n",
       "      <td>busy , call , dating , dating-advice , faith ,...</td>\n",
       "    </tr>\n",
       "    <tr>\n",
       "      <th>117</th>\n",
       "      <td>Maya Angelou</td>\n",
       "      <td>I don't trust people who don't love themselves...</td>\n",
       "      <td>1997 , annie-clark-tanner-lecture , inspiratio...</td>\n",
       "    </tr>\n",
       "    <tr>\n",
       "      <th>118</th>\n",
       "      <td>Vladimir Nabokov,</td>\n",
       "      <td>It was love at first sight, at last sight, at ...</td>\n",
       "      <td>humbert-humbert , love</td>\n",
       "    </tr>\n",
       "    <tr>\n",
       "      <th>119</th>\n",
       "      <td>Mother Teresa</td>\n",
       "      <td>I am not sure exactly what heaven will be like...</td>\n",
       "      <td>inspirational , love</td>\n",
       "    </tr>\n",
       "  </tbody>\n",
       "</table>\n",
       "<p>120 rows × 3 columns</p>\n",
       "</div>"
      ],
      "text/plain": [
       "                        author  \\\n",
       "0               Marilyn Monroe   \n",
       "1            William W. Purkey   \n",
       "2                    Dr. Seuss   \n",
       "3               Elbert Hubbard   \n",
       "4      Martin Luther King Jr.,   \n",
       "..                         ...   \n",
       "115  Antoine de Saint-Exupéry,   \n",
       "116              Greg Behrendt   \n",
       "117               Maya Angelou   \n",
       "118          Vladimir Nabokov,   \n",
       "119              Mother Teresa   \n",
       "\n",
       "                                                 quote  \\\n",
       "0    I'm selfish, impatient and a little insecure. ...   \n",
       "1    You've gotta dance like there's nobody watchin...   \n",
       "2    You know you're in love when you can't fall as...   \n",
       "3    A friend is someone who knows all about you an...   \n",
       "4    Darkness cannot drive out darkness: only light...   \n",
       "..                                                 ...   \n",
       "115  Love does not consist of gazing at each other,...   \n",
       "116  If he’s not calling you, it’s because you are ...   \n",
       "117  I don't trust people who don't love themselves...   \n",
       "118  It was love at first sight, at last sight, at ...   \n",
       "119  I am not sure exactly what heaven will be like...   \n",
       "\n",
       "                                                  tags  \n",
       "0    attributed-no-source , best , life , love , mi...  \n",
       "1    dance , heaven , hurt , inspirational , life ,...  \n",
       "2    attributed-no-source , dreams , love , reality...  \n",
       "3               friend , friendship , knowledge , love  \n",
       "4    darkness , drive-out , hate , inspirational , ...  \n",
       "..                                                 ...  \n",
       "115                                               love  \n",
       "116  busy , call , dating , dating-advice , faith ,...  \n",
       "117  1997 , annie-clark-tanner-lecture , inspiratio...  \n",
       "118                             humbert-humbert , love  \n",
       "119                               inspirational , love  \n",
       "\n",
       "[120 rows x 3 columns]"
      ]
     },
     "execution_count": 28,
     "metadata": {},
     "output_type": "execute_result"
    }
   ],
   "source": [
    "pd.DataFrame(collected,columns=[\"author\",\"quote\",\"tags\"])"
   ]
  },
  {
   "cell_type": "code",
   "execution_count": null,
   "metadata": {},
   "outputs": [],
   "source": []
  }
 ],
 "metadata": {
  "kernelspec": {
   "display_name": "Python 3",
   "language": "python",
   "name": "python3"
  },
  "language_info": {
   "codemirror_mode": {
    "name": "ipython",
    "version": 3
   },
   "file_extension": ".py",
   "mimetype": "text/x-python",
   "name": "python",
   "nbconvert_exporter": "python",
   "pygments_lexer": "ipython3",
   "version": "3.6.10"
  }
 },
 "nbformat": 4,
 "nbformat_minor": 4
}
